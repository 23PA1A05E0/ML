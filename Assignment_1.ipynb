{
  "nbformat": 4,
  "nbformat_minor": 0,
  "metadata": {
    "colab": {
      "provenance": [],
      "authorship_tag": "ABX9TyMzFvc9hdPwnRQLN4mD4W2C",
      "include_colab_link": true
    },
    "kernelspec": {
      "name": "python3",
      "display_name": "Python 3"
    },
    "language_info": {
      "name": "python"
    }
  },
  "cells": [
    {
      "cell_type": "markdown",
      "metadata": {
        "id": "view-in-github",
        "colab_type": "text"
      },
      "source": [
        "<a href=\"https://colab.research.google.com/github/23PA1A05E0/ML/blob/main/Assignment_1.ipynb\" target=\"_parent\"><img src=\"https://colab.research.google.com/assets/colab-badge.svg\" alt=\"Open In Colab\"/></a>"
      ]
    },
    {
      "cell_type": "markdown",
      "source": [
        "#Assignment-1\n"
      ],
      "metadata": {
        "id": "PIFzTu9Wkd8C"
      }
    },
    {
      "cell_type": "markdown",
      "source": [
        "importing the numpy library"
      ],
      "metadata": {
        "id": "5YHMynzCkmW2"
      }
    },
    {
      "cell_type": "code",
      "execution_count": null,
      "metadata": {
        "id": "YUWVXnoUkUXk"
      },
      "outputs": [],
      "source": [
        "import numpy as np"
      ]
    },
    {
      "cell_type": "markdown",
      "source": [
        "Creating two arrays a & b"
      ],
      "metadata": {
        "id": "-Nc8G5-ik_bZ"
      }
    },
    {
      "cell_type": "code",
      "source": [
        "a = np.array([[1,2,3],[4,5,6]])\n",
        "b = np.empty_like(a)"
      ],
      "metadata": {
        "id": "2UnnD4VMk-K2"
      },
      "execution_count": null,
      "outputs": []
    },
    {
      "cell_type": "markdown",
      "source": [
        "1. Perform arithmetic operations on NumPy arrays"
      ],
      "metadata": {
        "id": "CH04CY_nlpVy"
      }
    },
    {
      "cell_type": "code",
      "source": [
        "#addition\n",
        "print(np.add(a,b))\n",
        "#subraction\n",
        "print(np.subtract(a,b))\n",
        "#multiply\n",
        "print(np.multiply(a,b))\n",
        "#divide\n",
        "print(np.divide(a,b))\n",
        "#sqrt\n",
        "print(np.sqrt(a*b))\n"
      ],
      "metadata": {
        "colab": {
          "base_uri": "https://localhost:8080/"
        },
        "id": "O9zKDGVuloeY",
        "outputId": "e83be678-80ba-4f5b-8dae-3ce4f0d6a7a7"
      },
      "execution_count": null,
      "outputs": [
        {
          "output_type": "stream",
          "name": "stdout",
          "text": [
            "[[ 2  4  6]\n",
            " [ 8 10 12]]\n",
            "[[0 0 0]\n",
            " [0 0 0]]\n",
            "[[ 1  4  9]\n",
            " [16 25 36]]\n",
            "[[1. 1. 1.]\n",
            " [1. 1. 1.]]\n",
            "[[1. 2. 3.]\n",
            " [4. 5. 6.]]\n"
          ]
        }
      ]
    },
    {
      "cell_type": "markdown",
      "source": [
        "2.Write a script to compute the mean and standard deviation of a NumPy array."
      ],
      "metadata": {
        "id": "3dV_CQRNnGPn"
      }
    },
    {
      "cell_type": "code",
      "source": [
        "#mean of a\n",
        "print(np.mean(a))\n",
        "#standard deviation of a\n",
        "print(np.std(a))"
      ],
      "metadata": {
        "colab": {
          "base_uri": "https://localhost:8080/"
        },
        "id": "YeuAU3g9nEk_",
        "outputId": "23e6f085-35ef-49c5-d2bb-b75327059ca2"
      },
      "execution_count": null,
      "outputs": [
        {
          "output_type": "stream",
          "name": "stdout",
          "text": [
            "3.5\n",
            "1.707825127659933\n"
          ]
        }
      ]
    },
    {
      "cell_type": "markdown",
      "source": [
        "3.Create a NumPy array of integers from 10 to 50 with a step size of 5.\n"
      ],
      "metadata": {
        "id": "4Xi1Wy6sopgZ"
      }
    },
    {
      "cell_type": "code",
      "source": [
        "x = np.array(range(10,50,5))\n",
        "print(x)\n",
        "#If you want to include the inside range(10,51,5)"
      ],
      "metadata": {
        "colab": {
          "base_uri": "https://localhost:8080/"
        },
        "id": "KCzxbSvIoosM",
        "outputId": "3787ac9f-9e39-40e9-ec65-bc52475274af"
      },
      "execution_count": null,
      "outputs": [
        {
          "output_type": "stream",
          "name": "stdout",
          "text": [
            "[10 15 20 25 30 35 40 45]\n"
          ]
        }
      ]
    },
    {
      "cell_type": "markdown",
      "source": [
        "4. Reshape the array into a 2x4 matrix.\n",
        "\n"
      ],
      "metadata": {
        "id": "KNQg-OAlpNMD"
      }
    },
    {
      "cell_type": "code",
      "source": [
        "arr = np.array([[1,2],[3,4],[5,6],[7,8]])\n",
        "print(arr)\n",
        "print(\"shape\")\n",
        "print(arr.shape)\n",
        "# reshape\n",
        "reshaped_arr = arr.reshape(2,4)\n",
        "print(reshaped_arr)"
      ],
      "metadata": {
        "colab": {
          "base_uri": "https://localhost:8080/"
        },
        "id": "NlS0D-GypMbT",
        "outputId": "566d368a-84f6-4c87-c634-0ace81601166"
      },
      "execution_count": null,
      "outputs": [
        {
          "output_type": "stream",
          "name": "stdout",
          "text": [
            "[[1 2]\n",
            " [3 4]\n",
            " [5 6]\n",
            " [7 8]]\n",
            "shape\n",
            "(4, 2)\n",
            "[[1 2 3 4]\n",
            " [5 6 7 8]]\n"
          ]
        }
      ]
    },
    {
      "cell_type": "markdown",
      "source": [
        "5. Given the array arr = np.array([[1, 2, 3], [4, 5, 6], [7, 8, 9]]):\n",
        "\n",
        "• Extract the sub-matrix containing the last two rows and first two columns.\n",
        "\n",
        "\n",
        "• Replace all elements greater than 4 with 0."
      ],
      "metadata": {
        "id": "9JZJcbCAq0Xr"
      }
    },
    {
      "cell_type": "code",
      "source": [
        "arr = np.array([[1,2,3],[4,5,6],[7,8,9]])\n",
        "# Extract the sub-matrix containing the last two rows and first two columns.\n",
        "sub_arr = arr[1:,:2]\n",
        "print(sub_arr)\n",
        "# Replace all elements greater than 4 with 0.\n",
        "# in original array\n",
        "arr[arr>4] = 0\n",
        "print(arr)\n",
        "# in sub matrix\n",
        "sub_arr[sub_arr>4] = 0\n",
        "print(sub_arr)"
      ],
      "metadata": {
        "colab": {
          "base_uri": "https://localhost:8080/"
        },
        "id": "DwATjdEOrE5L",
        "outputId": "21a7b496-af1a-46f8-c9d0-5caa8051b9af"
      },
      "execution_count": null,
      "outputs": [
        {
          "output_type": "stream",
          "name": "stdout",
          "text": [
            "[[4 5]\n",
            " [7 8]]\n",
            "[[1 2 3]\n",
            " [4 0 0]\n",
            " [0 0 0]]\n",
            "[[4 0]\n",
            " [0 0]]\n"
          ]
        }
      ]
    },
    {
      "cell_type": "markdown",
      "source": [
        "6. Create two 1D arrays:\n",
        "\n",
        "\n",
        "• a = np.array([1, 2, 3])\n",
        "\n",
        "\n",
        "• b = np.array([4, 5, 6])\n",
        "\n",
        "\n",
        "• Perform element-wise addition, multiplication, and division."
      ],
      "metadata": {
        "id": "fTrAXjaSsoPc"
      }
    },
    {
      "cell_type": "code",
      "source": [
        "a = np.array([1,2,3])\n",
        "b = np.array([4,5,6])\n",
        "print(a+b)\n",
        "print(a*b)\n",
        "print(a/b)\n",
        "#we can built-in methods\n",
        "print(np.add(a,b))\n",
        "print(np.multiply(a,b))\n",
        "print(np.divide(a,b))"
      ],
      "metadata": {
        "colab": {
          "base_uri": "https://localhost:8080/"
        },
        "id": "BeVQazJ3snZV",
        "outputId": "784a40ff-fba1-44f8-d8a5-4deca873e7c7"
      },
      "execution_count": null,
      "outputs": [
        {
          "output_type": "stream",
          "name": "stdout",
          "text": [
            "[5 7 9]\n",
            "[ 4 10 18]\n",
            "[0.25 0.4  0.5 ]\n",
            "[5 7 9]\n",
            "[ 4 10 18]\n",
            "[0.25 0.4  0.5 ]\n"
          ]
        }
      ]
    },
    {
      "cell_type": "markdown",
      "source": [
        "7. Create a random NumPy array of size (4, 4). Compute:\n",
        "\n",
        "\n",
        "• Mean of each column.\n",
        "\n",
        "\n",
        "• Maximum value of the entire array.\n",
        "\n",
        "\n",
        "• Sum of all elements."
      ],
      "metadata": {
        "id": "uF5np30JtMEX"
      }
    },
    {
      "cell_type": "code",
      "source": [
        "rm = np.random.randint(23,size=(4,4))\n",
        "print(rm)\n",
        "# Mean of each column.\n",
        "print(\"mean of each column:\",end=\" \")\n",
        "print(np.mean(rm,axis=0))\n",
        "# Maximum value of the entire array.\n",
        "print(\"maximum element:\",end=\" \")\n",
        "print(np.max(rm))\n",
        "#Sum of all elements in arr\n",
        "print(\"sum of array:\",np.sum(rm))"
      ],
      "metadata": {
        "colab": {
          "base_uri": "https://localhost:8080/"
        },
        "id": "x-GTG5TltLY_",
        "outputId": "eb61e60e-c382-414b-9681-4833b9b2e96d"
      },
      "execution_count": null,
      "outputs": [
        {
          "output_type": "stream",
          "name": "stdout",
          "text": [
            "[[15 16  7  9]\n",
            " [ 5 22 18 14]\n",
            " [22  7 15 15]\n",
            " [ 5  8 22 18]]\n",
            "mean of each column: [11.75 13.25 15.5  14.  ]\n",
            "maximum element: 22\n",
            "sum of array: 218\n"
          ]
        }
      ]
    },
    {
      "cell_type": "markdown",
      "source": [
        "8. Given the array arr = np.array([1, 2, 3, 4]), add 10 to each element and multiply\n",
        "the result by 2"
      ],
      "metadata": {
        "id": "m67ftf6Hzx3w"
      }
    },
    {
      "cell_type": "code",
      "source": [
        "arr = np.array([1,2,3,4])\n",
        "add_arr = arr+10\n",
        "print(add_arr)\n",
        "mul_arr = add_arr*2\n",
        "print(mul_arr)"
      ],
      "metadata": {
        "colab": {
          "base_uri": "https://localhost:8080/"
        },
        "id": "NdPiH89Y0gYb",
        "outputId": "6d74a11d-0a23-4a4a-fa75-e1e67e636f23"
      },
      "execution_count": null,
      "outputs": [
        {
          "output_type": "stream",
          "name": "stdout",
          "text": [
            "[11 12 13 14]\n",
            "[22 24 26 28]\n"
          ]
        }
      ]
    },
    {
      "cell_type": "markdown",
      "source": [
        "9. Perform advanced slicing and indexing on a 3D array.\n",
        "Create a 3D NumPy array arr of shape (3, 4, 5) with random integers ranging from\n",
        "1 to 100. Perform the following:\n"
      ],
      "metadata": {
        "id": "IFwkWk_31tzG"
      }
    },
    {
      "cell_type": "code",
      "source": [
        "arr = np.random.randint(100,size=(3,4,5))\n",
        "print(arr)"
      ],
      "metadata": {
        "colab": {
          "base_uri": "https://localhost:8080/"
        },
        "id": "lQKnsuUt18Dy",
        "outputId": "f54db881-11d3-4228-a257-3f6a422e5600"
      },
      "execution_count": null,
      "outputs": [
        {
          "output_type": "stream",
          "name": "stdout",
          "text": [
            "[[[55 26 91 52 36]\n",
            "  [43 84 34 55 42]\n",
            "  [79 19 80 47 91]\n",
            "  [79 18 64 85  5]]\n",
            "\n",
            " [[ 6 25 75 23 16]\n",
            "  [66 58 24 67 92]\n",
            "  [33 89 20  2 71]\n",
            "  [26 30 43 94 31]]\n",
            "\n",
            " [[35 49 57 25  5]\n",
            "  [16 19 61 29 34]\n",
            "  [54 56 13 21 41]\n",
            "  [69 83 23 36 29]]]\n"
          ]
        }
      ]
    },
    {
      "cell_type": "markdown",
      "source": [
        "* . Extract the second \"layer\" (i.e., the second 2D array) in the first dimension"
      ],
      "metadata": {
        "id": "vXf933OG2vmp"
      }
    },
    {
      "cell_type": "code",
      "source": [
        "#By using slicing\n",
        "print(arr[1])\n",
        "#By using indexing\n",
        "print(arr[1,:,:])"
      ],
      "metadata": {
        "colab": {
          "base_uri": "https://localhost:8080/"
        },
        "id": "E7887f7k2uS7",
        "outputId": "dc2e0b70-1583-46cc-d532-04c4c5e24533"
      },
      "execution_count": null,
      "outputs": [
        {
          "output_type": "stream",
          "name": "stdout",
          "text": [
            "[[ 6 25 75 23 16]\n",
            " [66 58 24 67 92]\n",
            " [33 89 20  2 71]\n",
            " [26 30 43 94 31]]\n",
            "[[ 6 25 75 23 16]\n",
            " [66 58 24 67 92]\n",
            " [33 89 20  2 71]\n",
            " [26 30 43 94 31]]\n"
          ]
        }
      ]
    },
    {
      "cell_type": "markdown",
      "source": [
        "* . Extract the first two rows and the last three columns from each \"layer.\""
      ],
      "metadata": {
        "id": "BRMrDgTo4vQg"
      }
    },
    {
      "cell_type": "code",
      "source": [
        "# using slicing\n",
        "print(arr[0:2,1:,0:3])"
      ],
      "metadata": {
        "colab": {
          "base_uri": "https://localhost:8080/"
        },
        "id": "5Jxcacbi4216",
        "outputId": "a47d67fd-cd02-47ca-d07b-5159d9b73b91"
      },
      "execution_count": null,
      "outputs": [
        {
          "output_type": "stream",
          "name": "stdout",
          "text": [
            "[[[43 84 34]\n",
            "  [79 19 80]\n",
            "  [79 18 64]]\n",
            "\n",
            " [[66 58 24]\n",
            "  [33 89 20]\n",
            "  [26 30 43]]]\n"
          ]
        }
      ]
    },
    {
      "cell_type": "markdown",
      "source": [
        "*.Replace all elements divisible by 3 with -1."
      ],
      "metadata": {
        "id": "g__4mJvT743x"
      }
    },
    {
      "cell_type": "code",
      "source": [
        "arr[arr%3==0] = -1\n",
        "print(arr)"
      ],
      "metadata": {
        "colab": {
          "base_uri": "https://localhost:8080/"
        },
        "id": "xCYc8cvh7052",
        "outputId": "26a7cfee-14c3-4f1d-fac5-93be83e31fa3"
      },
      "execution_count": null,
      "outputs": [
        {
          "output_type": "stream",
          "name": "stdout",
          "text": [
            "[[[55 26 91 52 -1]\n",
            "  [43 -1 34 55 -1]\n",
            "  [79 19 80 47 91]\n",
            "  [79 -1 64 85  5]]\n",
            "\n",
            " [[-1 25 -1 23 16]\n",
            "  [-1 58 -1 67 92]\n",
            "  [-1 89 20  2 71]\n",
            "  [26 -1 43 94 31]]\n",
            "\n",
            " [[35 49 -1 25  5]\n",
            "  [16 19 61 29 34]\n",
            "  [-1 56 13 -1 41]\n",
            "  [-1 83 23 -1 29]]]\n"
          ]
        }
      ]
    },
    {
      "cell_type": "markdown",
      "source": [
        "10. Work with broadcasting and advanced operations in NumPy.\n",
        " Create a NumPy array arr of shape (3, 3) with random integers between\n",
        " 1 and 20. Perform the following:"
      ],
      "metadata": {
        "id": "FxeaQdCY8Rtg"
      }
    },
    {
      "cell_type": "code",
      "source": [
        "a = np.random.randint(1,21,size=(3,3))\n",
        "print(a)"
      ],
      "metadata": {
        "colab": {
          "base_uri": "https://localhost:8080/"
        },
        "id": "hXgzRnIQ8RBP",
        "outputId": "c7f740b8-47dd-49bd-a215-efbb529680e4"
      },
      "execution_count": null,
      "outputs": [
        {
          "output_type": "stream",
          "name": "stdout",
          "text": [
            "[[ 1  8  1]\n",
            " [16  1  9]\n",
            " [ 7  2  5]]\n"
          ]
        }
      ]
    },
    {
      "cell_type": "markdown",
      "source": [
        " *.Subtract the mean of each row from its respective elements (row-wise\n",
        "normalization)"
      ],
      "metadata": {
        "id": "coYsP7J181MN"
      }
    },
    {
      "cell_type": "code",
      "source": [
        "print(a)\n",
        "for i in range(3):\n",
        "  a[i] = a[i]-np.mean(a[i])\n",
        "print(a)"
      ],
      "metadata": {
        "colab": {
          "base_uri": "https://localhost:8080/"
        },
        "id": "WjbyFllx8zJn",
        "outputId": "200ee113-e131-400e-8214-1b74a7226ff6"
      },
      "execution_count": null,
      "outputs": [
        {
          "output_type": "stream",
          "name": "stdout",
          "text": [
            "[[ 1  8  1]\n",
            " [16  1  9]\n",
            " [ 7  2  5]]\n",
            "[[-2  4 -2]\n",
            " [ 7 -7  0]\n",
            " [ 2 -2  0]]\n"
          ]
        }
      ]
    },
    {
      "cell_type": "markdown",
      "source": [
        "• Create a new array by squaring all the elements in arr"
      ],
      "metadata": {
        "id": "6S4E7ybSATTI"
      }
    },
    {
      "cell_type": "code",
      "source": [
        "squared_a = a**2\n",
        "print(squared_a)"
      ],
      "metadata": {
        "colab": {
          "base_uri": "https://localhost:8080/"
        },
        "id": "JiH_Ss6zASOq",
        "outputId": "772ee30d-515c-4a97-ee30-c84629d1f122"
      },
      "execution_count": null,
      "outputs": [
        {
          "output_type": "stream",
          "name": "stdout",
          "text": [
            "[[ 4 16  4]\n",
            " [49 49  0]\n",
            " [ 4  4  0]]\n"
          ]
        }
      ]
    },
    {
      "cell_type": "markdown",
      "source": [
        "• Find the indices of the top 3 maximum values in the entire array"
      ],
      "metadata": {
        "id": "0lhy0LzGAowB"
      }
    },
    {
      "cell_type": "code",
      "source": [
        "a = np.random.randint(1,21,size=(3,3))\n",
        "print(\"Original array:\")\n",
        "print(a)\n",
        "\n",
        "# Flatten the array\n",
        "flat_a = a.flatten()\n",
        "print(\"Flattened array:\")\n",
        "print(flat_a)\n",
        "\n",
        "top_3_indices = np.argpartition(flat_a, -3)[-3:]\n",
        "\n",
        "top_3_2d_indices = np.unravel_index(top_3_indices, a.shape)\n",
        "top_3_values = flat_a[top_3_indices]\n",
        "print(\"Top 3 maximum values:\")\n",
        "print(top_3_values)\n",
        "print(\"\\nIndices of the top 3 maximum values in the array:\")\n",
        "print(top_3_2d_indices)\n",
        "#or we can simplify\n",
        "print(\"\\nIndices of the top 3 maximum values in the array:\")\n",
        "row_index,col_index = np.unravel_index(np.argsort(a.flatten())[-3:],a.shape)\n",
        "for i in range(3):\n",
        "  print(a[row_index[i] ,col_index[i]], \"->index:\" ,[row_index[i] ,col_index[i]])\n",
        "\n",
        "\n"
      ],
      "metadata": {
        "colab": {
          "base_uri": "https://localhost:8080/"
        },
        "id": "YePAGEPkAnpQ",
        "outputId": "85fc3a2c-5361-4285-e516-803251880266"
      },
      "execution_count": 22,
      "outputs": [
        {
          "output_type": "stream",
          "name": "stdout",
          "text": [
            "Original array:\n",
            "[[ 5  8  9]\n",
            " [ 7  3  2]\n",
            " [18 19  1]]\n",
            "Flattened array:\n",
            "[ 5  8  9  7  3  2 18 19  1]\n",
            "Top 3 maximum values:\n",
            "[ 9 19 18]\n",
            "\n",
            "Indices of the top 3 maximum values in the array:\n",
            "(array([0, 2, 2]), array([2, 1, 0]))\n",
            "\n",
            "Indices of the top 3 maximum values in the array:\n",
            "9 ->index: [0, 2]\n",
            "18 ->index: [2, 0]\n",
            "19 ->index: [2, 1]\n"
          ]
        }
      ]
    }
  ]
}